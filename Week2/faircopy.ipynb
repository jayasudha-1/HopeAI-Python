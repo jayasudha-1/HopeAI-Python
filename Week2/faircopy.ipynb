{
 "cells": [
  {
   "cell_type": "code",
   "execution_count": 3,
   "id": "095c03ed-140c-42da-8274-495b5f73e200",
   "metadata": {},
   "outputs": [],
   "source": [
    "from library import libraryClass"
   ]
  },
  {
   "cell_type": "code",
   "execution_count": 4,
   "id": "203fdc4a-2b67-4b20-a7f3-21d515529012",
   "metadata": {},
   "outputs": [
    {
     "name": "stdout",
     "output_type": "stream",
     "text": [
      "Sub-fields in AI are:\n",
      "Machine Learning\n",
      "Neural Networks\n",
      "Vision\n",
      "Robotics\n",
      "Speech Processing\n",
      "Natural Language Processing\n"
     ]
    }
   ],
   "source": [
    "libraryClass.Subfields()"
   ]
  },
  {
   "cell_type": "code",
   "execution_count": 5,
   "id": "27d2a190-1f3c-4720-8c65-3d173024576b",
   "metadata": {},
   "outputs": [
    {
     "name": "stdin",
     "output_type": "stream",
     "text": [
      "Enter a number: 1234\n"
     ]
    },
    {
     "name": "stdout",
     "output_type": "stream",
     "text": [
      "1234 is Even number\n"
     ]
    }
   ],
   "source": [
    "libraryClass.OddEven()"
   ]
  },
  {
   "cell_type": "code",
   "execution_count": 6,
   "id": "67a05769-b4f3-4b43-a6a7-eb232b06e38c",
   "metadata": {},
   "outputs": [
    {
     "name": "stdin",
     "output_type": "stream",
     "text": [
      "Your Gender: Female\n",
      "Your Age: 25\n"
     ]
    },
    {
     "name": "stdout",
     "output_type": "stream",
     "text": [
      "Elgible\n"
     ]
    }
   ],
   "source": [
    "libraryClass.Elegible()"
   ]
  },
  {
   "cell_type": "code",
   "execution_count": 7,
   "id": "c17e4464-469a-4157-8dab-611bb9c701af",
   "metadata": {},
   "outputs": [
    {
     "name": "stdin",
     "output_type": "stream",
     "text": [
      "Subject1= 90\n",
      "Subject2= 85\n",
      "Subject3= 90\n",
      "Subject4= 93\n",
      "Subject5= 87\n"
     ]
    },
    {
     "name": "stdout",
     "output_type": "stream",
     "text": [
      "Total : 445\n",
      "Percentage : 89.0\n"
     ]
    }
   ],
   "source": [
    "libraryClass.percentage()"
   ]
  },
  {
   "cell_type": "code",
   "execution_count": 8,
   "id": "019b4deb-13cc-4b17-b8b6-0eb1ea21cfdc",
   "metadata": {},
   "outputs": [
    {
     "name": "stdin",
     "output_type": "stream",
     "text": [
      "Height: 24\n",
      "Breadth: 30\n"
     ]
    },
    {
     "name": "stdout",
     "output_type": "stream",
     "text": [
      "Area formula: (Height*Breadth)/2\n",
      "Area of Triangle: 360.0\n"
     ]
    },
    {
     "name": "stdin",
     "output_type": "stream",
     "text": [
      "Height1: 4\n",
      "Height2: 5\n",
      "Breadth: 8\n"
     ]
    },
    {
     "name": "stdout",
     "output_type": "stream",
     "text": [
      "Perimeter formula: Height1+Height2+Breadth\n",
      "Perimeter of Triangle: 17\n"
     ]
    }
   ],
   "source": [
    "libraryClass.triangle()"
   ]
  },
  {
   "cell_type": "code",
   "execution_count": null,
   "id": "66662c55-708b-4fdf-85ea-17d7dc571a2a",
   "metadata": {},
   "outputs": [],
   "source": []
  }
 ],
 "metadata": {
  "kernelspec": {
   "display_name": "Python 3 (ipykernel)",
   "language": "python",
   "name": "python3"
  },
  "language_info": {
   "codemirror_mode": {
    "name": "ipython",
    "version": 3
   },
   "file_extension": ".py",
   "mimetype": "text/x-python",
   "name": "python",
   "nbconvert_exporter": "python",
   "pygments_lexer": "ipython3",
   "version": "3.13.5"
  }
 },
 "nbformat": 4,
 "nbformat_minor": 5
}
