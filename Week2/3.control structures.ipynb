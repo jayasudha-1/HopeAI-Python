{
 "cells": [
  {
   "cell_type": "code",
   "execution_count": null,
   "id": "85eef81b-6bc5-499f-9a08-5dacf5e861d4",
   "metadata": {},
   "outputs": [],
   "source": [
    "#if\n",
    "#check if the age is 18, print as adult"
   ]
  },
  {
   "cell_type": "code",
   "execution_count": 2,
   "id": "9301601b-d538-4f07-929f-2880f8b89c28",
   "metadata": {},
   "outputs": [
    {
     "name": "stdin",
     "output_type": "stream",
     "text": [
      "enter the age: 18\n"
     ]
    }
   ],
   "source": [
    "age=int(input(\"enter the age:\"))"
   ]
  },
  {
   "cell_type": "code",
   "execution_count": 3,
   "id": "2a5ea377-c0b0-46b5-93b6-acd5c266ab4d",
   "metadata": {},
   "outputs": [
    {
     "name": "stdout",
     "output_type": "stream",
     "text": [
      "the person is adult\n"
     ]
    }
   ],
   "source": [
    "if(age==18):\n",
    "    print(\"the person is adult\")"
   ]
  },
  {
   "cell_type": "code",
   "execution_count": 6,
   "id": "8c6b5caa-9f58-4170-9783-698f654e3840",
   "metadata": {},
   "outputs": [
    {
     "name": "stdin",
     "output_type": "stream",
     "text": [
      "enter the age: 15\n"
     ]
    }
   ],
   "source": [
    "age=int(input(\"enter the age:\"))"
   ]
  },
  {
   "cell_type": "code",
   "execution_count": 7,
   "id": "89f7fe8e-15f0-44b6-a797-6c1832741d4c",
   "metadata": {},
   "outputs": [
    {
     "name": "stdout",
     "output_type": "stream",
     "text": [
      "the person is children\n"
     ]
    }
   ],
   "source": [
    "if(age>18):\n",
    "    print(\"the person is adult\")\n",
    "else:\n",
    "    print(\"the person is children\")"
   ]
  },
  {
   "cell_type": "code",
   "execution_count": 10,
   "id": "299610fb-d6aa-442d-b59b-f03ec912c5ec",
   "metadata": {},
   "outputs": [
    {
     "name": "stdin",
     "output_type": "stream",
     "text": [
      "enter the age: 60\n"
     ]
    }
   ],
   "source": [
    "age=int(input(\"enter the age:\"))"
   ]
  },
  {
   "cell_type": "code",
   "execution_count": 11,
   "id": "c52cd378-a220-4597-9091-d723afaac381",
   "metadata": {},
   "outputs": [
    {
     "name": "stdout",
     "output_type": "stream",
     "text": [
      "senior citizen\n"
     ]
    }
   ],
   "source": [
    "if(age<18):\n",
    "    print(\"the person is children\")\n",
    "elif(age<35):\n",
    "    print(\"the person is adult\")\n",
    "elif(age<55):\n",
    "    print(\"the person is citizen\")\n",
    "else:\n",
    "    print(\"senior citizen\")"
   ]
  },
  {
   "cell_type": "code",
   "execution_count": 16,
   "id": "186a47f7-8361-4666-aff9-f72801cf6f41",
   "metadata": {},
   "outputs": [],
   "source": [
    "lists=[20,5,35,60]"
   ]
  },
  {
   "cell_type": "code",
   "execution_count": 17,
   "id": "bfdc91a7-18d4-4a07-8772-9c792ef2af8c",
   "metadata": {},
   "outputs": [
    {
     "name": "stdout",
     "output_type": "stream",
     "text": [
      "the person is adult\n",
      "the person is children\n",
      "the person is citizen\n",
      "senior citizen\n"
     ]
    }
   ],
   "source": [
    "for age in lists:\n",
    "    if(age<18):\n",
    "        print(\"the person is children\")\n",
    "    elif(age<35):\n",
    "        print(\"the person is adult\")\n",
    "    elif(age<55):\n",
    "        print(\"the person is citizen\")\n",
    "    else:\n",
    "        print(\"senior citizen\")"
   ]
  },
  {
   "cell_type": "code",
   "execution_count": null,
   "id": "fc5e8b39-920c-4e2f-820b-6c4c8e199c53",
   "metadata": {},
   "outputs": [],
   "source": []
  },
  {
   "cell_type": "code",
   "execution_count": null,
   "id": "2ce15e66-42c0-4f2a-bf85-56048f5fc7c3",
   "metadata": {},
   "outputs": [],
   "source": []
  }
 ],
 "metadata": {
  "kernelspec": {
   "display_name": "Python [conda env:base] *",
   "language": "python",
   "name": "conda-base-py"
  },
  "language_info": {
   "codemirror_mode": {
    "name": "ipython",
    "version": 3
   },
   "file_extension": ".py",
   "mimetype": "text/x-python",
   "name": "python",
   "nbconvert_exporter": "python",
   "pygments_lexer": "ipython3",
   "version": "3.13.5"
  }
 },
 "nbformat": 4,
 "nbformat_minor": 5
}
