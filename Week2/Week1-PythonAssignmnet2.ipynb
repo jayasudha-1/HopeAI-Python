{
 "cells": [
  {
   "cell_type": "code",
   "execution_count": 3,
   "id": "5697ad07-6d3c-479a-9747-fd859131c40f",
   "metadata": {},
   "outputs": [
    {
     "name": "stdout",
     "output_type": "stream",
     "text": [
      "0\n",
      "1\n",
      "2\n",
      "3\n",
      "4\n",
      "5\n",
      "6\n",
      "7\n",
      "8\n",
      "9\n",
      "10\n",
      "11\n",
      "12\n",
      "13\n",
      "14\n",
      "15\n",
      "16\n",
      "17\n",
      "18\n",
      "19\n"
     ]
    }
   ],
   "source": [
    "# print 0 to 20 by using range\n",
    "for num in range(0,20):\n",
    "    print(num)"
   ]
  },
  {
   "cell_type": "code",
   "execution_count": 11,
   "id": "4b0846de-d94e-4770-8518-1d52a5a07d6d",
   "metadata": {},
   "outputs": [
    {
     "name": "stdout",
     "output_type": "stream",
     "text": [
      "10 11 12 13 14 15 16 17 18 19 "
     ]
    }
   ],
   "source": [
    "# print range 10 to 20\n",
    "for num in range(10,20):\n",
    "    print(num, end=\" \")"
   ]
  },
  {
   "cell_type": "markdown",
   "id": "d5a0cd65-5dc8-4ea4-b094-13145531469c",
   "metadata": {},
   "source": [
    "# Print number of items in the list by using 'len'\n",
    "[10, 20, 14, 55, 43, 87, 76]\n",
    "Number of item in the List2:\n",
    "7"
   ]
  },
  {
   "cell_type": "code",
   "execution_count": 17,
   "id": "6a4c97e3-1a54-4f4e-9195-5041ff181b6d",
   "metadata": {},
   "outputs": [
    {
     "name": "stdout",
     "output_type": "stream",
     "text": [
      "[10, 20, 14, 55, 43, 87, 76]\n",
      "Number of item in the List2:\n",
      "7\n"
     ]
    }
   ],
   "source": [
    "List2=[10, 20, 14, 55, 43, 87, 76]\n",
    "print(List2)\n",
    "print(\"Number of item in the List2:\")\n",
    "print(len(List2))"
   ]
  },
  {
   "cell_type": "code",
   "execution_count": null,
   "id": "fe4350b8-cd99-42ab-a820-248618abc833",
   "metadata": {},
   "outputs": [],
   "source": []
  }
 ],
 "metadata": {
  "kernelspec": {
   "display_name": "Python [conda env:base] *",
   "language": "python",
   "name": "conda-base-py"
  },
  "language_info": {
   "codemirror_mode": {
    "name": "ipython",
    "version": 3
   },
   "file_extension": ".py",
   "mimetype": "text/x-python",
   "name": "python",
   "nbconvert_exporter": "python",
   "pygments_lexer": "ipython3",
   "version": "3.13.5"
  }
 },
 "nbformat": 4,
 "nbformat_minor": 5
}
