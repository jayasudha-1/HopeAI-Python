{
 "cells": [
  {
   "cell_type": "code",
   "execution_count": 1,
   "id": "6ff4e3cd-c222-4b19-9c42-884517b3f9cd",
   "metadata": {},
   "outputs": [
    {
     "name": "stdout",
     "output_type": "stream",
     "text": [
      "Welcome to Assignment-1\n"
     ]
    }
   ],
   "source": [
    "print(\"Welcome to Assignment-1\")"
   ]
  },
  {
   "cell_type": "markdown",
   "id": "ccb6d799-13ee-4277-a9dd-602f3bf81ff0",
   "metadata": {},
   "source": [
    "Num1= 10\n",
    "Num2= 30\n",
    "Add= 40"
   ]
  },
  {
   "cell_type": "code",
   "execution_count": 2,
   "id": "674d05f3-5620-4414-9736-9f52a6690191",
   "metadata": {},
   "outputs": [
    {
     "name": "stdout",
     "output_type": "stream",
     "text": [
      "Num1= 10\n",
      "Num2= 30\n",
      "Add= 40\n"
     ]
    }
   ],
   "source": [
    "Num1=10\n",
    "Num2=30\n",
    "Add=Num1+Num2\n",
    "print(\"Num1=\",Num1)\n",
    "print(\"Num2=\",Num2)\n",
    "print(\"Add=\",Add)"
   ]
  },
  {
   "cell_type": "markdown",
   "id": "89ce6e4a-aca3-485e-933d-00d98c2186ac",
   "metadata": {},
   "source": [
    "#Body Mass Index\n",
    "Enter the BMI Index:34\n",
    "Very Overweight"
   ]
  },
  {
   "cell_type": "code",
   "execution_count": 15,
   "id": "fbf71718-f0f6-429e-917f-127ee040ab55",
   "metadata": {},
   "outputs": [
    {
     "name": "stdin",
     "output_type": "stream",
     "text": [
      "Enter the BMI Index: 18.5\n"
     ]
    },
    {
     "name": "stdout",
     "output_type": "stream",
     "text": [
      "Underweight\n"
     ]
    }
   ],
   "source": [
    "bmical=float(input(\"Enter the BMI Index:\"))\n",
    "if(bmical<=18.5):\n",
    "    print(\"Underweight\")\n",
    "elif(bmical<24.9):\n",
    "    print(\"Normalweight\")\n",
    "elif(bmical<(25.0-29.9)):\n",
    "    print(\"Overweight\")\n",
    "elif(bmical<35):\n",
    "    print(\"Very Overweight\")\n",
    "else:\n",
    "    print(\"Obesity\")\n",
    "    "
   ]
  },
  {
   "cell_type": "code",
   "execution_count": null,
   "id": "03d8a0f0-1751-404e-91e8-32aa33c74ba2",
   "metadata": {},
   "outputs": [],
   "source": []
  }
 ],
 "metadata": {
  "kernelspec": {
   "display_name": "Python [conda env:base] *",
   "language": "python",
   "name": "conda-base-py"
  },
  "language_info": {
   "codemirror_mode": {
    "name": "ipython",
    "version": 3
   },
   "file_extension": ".py",
   "mimetype": "text/x-python",
   "name": "python",
   "nbconvert_exporter": "python",
   "pygments_lexer": "ipython3",
   "version": "3.13.5"
  }
 },
 "nbformat": 4,
 "nbformat_minor": 5
}
