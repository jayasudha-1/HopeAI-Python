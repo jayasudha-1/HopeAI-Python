{
 "cells": [
  {
   "cell_type": "markdown",
   "id": "6dc6dc85-1b63-48e7-9fd4-57cf62df0271",
   "metadata": {},
   "source": [
    "# print 'CORRECT' if i == 10\n",
    "value: 10\n",
    "Corret"
   ]
  },
  {
   "cell_type": "code",
   "execution_count": 2,
   "id": "6bba87ae-ee60-4e31-8926-f39313cf3284",
   "metadata": {},
   "outputs": [
    {
     "name": "stdin",
     "output_type": "stream",
     "text": [
      "value: 10\n"
     ]
    },
    {
     "name": "stdout",
     "output_type": "stream",
     "text": [
      "Correct\n"
     ]
    }
   ],
   "source": [
    "i=(int(input(\"value:\")))\n",
    "if(i==10):\n",
    "    print(\"Correct\")"
   ]
  },
  {
   "cell_type": "markdown",
   "id": "946860d8-37bd-4e83-819d-6f64d0ca5262",
   "metadata": {},
   "source": [
    "# Check the password, using if and else\n",
    "Enter the password: HOPE@123\n",
    "Your password is correct"
   ]
  },
  {
   "cell_type": "code",
   "execution_count": 5,
   "id": "7ccc6d5f-2069-4761-87dd-fe2ac07c1bad",
   "metadata": {},
   "outputs": [
    {
     "name": "stdin",
     "output_type": "stream",
     "text": [
      "Enter the password: HOPE@123\n"
     ]
    },
    {
     "name": "stdout",
     "output_type": "stream",
     "text": [
      "Your password is correct\n"
     ]
    }
   ],
   "source": [
    "pwd=input(\"Enter the password:\")\n",
    "if(pwd==\"HOPE@123\"):\n",
    "    print(\"Your password is correct\")\n",
    "else:\n",
    "    print(\"not Correct\")"
   ]
  },
  {
   "cell_type": "markdown",
   "id": "ac4a2560-7384-4c76-a6ed-3f5ba2704842",
   "metadata": {},
   "source": [
    "# Catagory the people by their age like children, adult, citizen, senior citizen...\n",
    "age: 20\n",
    "Adult"
   ]
  },
  {
   "cell_type": "code",
   "execution_count": 7,
   "id": "d68e32f4-5316-4648-a894-a3802674a7ea",
   "metadata": {},
   "outputs": [
    {
     "name": "stdin",
     "output_type": "stream",
     "text": [
      "age: 20\n"
     ]
    },
    {
     "name": "stdout",
     "output_type": "stream",
     "text": [
      "Adult\n"
     ]
    }
   ],
   "source": [
    "age=int(input(\"age:\"))\n",
    "if(age<18):\n",
    "    print(\"children\")\n",
    "elif(age<50):\n",
    "    print(\"Adult\")\n",
    "elif(age<65):\n",
    "    print(\"citizen\")\n",
    "else:\n",
    "    print(\"senior citizen\")"
   ]
  },
  {
   "cell_type": "markdown",
   "id": "7227325a-78dc-4b4d-8d3e-7b5d922e79ab",
   "metadata": {},
   "source": [
    "# Find whether given number is positive or negative\n",
    "Enter any number:1\n",
    "No is positive"
   ]
  },
  {
   "cell_type": "code",
   "execution_count": 14,
   "id": "89fbcc5e-e458-4215-8364-cf5eed616da8",
   "metadata": {},
   "outputs": [
    {
     "name": "stdin",
     "output_type": "stream",
     "text": [
      "Enter any number: 1\n"
     ]
    },
    {
     "name": "stdout",
     "output_type": "stream",
     "text": [
      "No is positive\n"
     ]
    }
   ],
   "source": [
    "num=int(input(\"Enter any number:\"))\n",
    "if(num>=0):\n",
    "    print(\"No is positive\")\n",
    "else:\n",
    "    print(\"No is negative\")\n",
    "    "
   ]
  },
  {
   "cell_type": "markdown",
   "id": "37637eb6-6444-4e47-86be-6e5e1884c4b9",
   "metadata": {},
   "source": [
    "# Check whether the given number is divisible by 5\n",
    "Enter a number to check:22\n",
    "No is not divisible by 5"
   ]
  },
  {
   "cell_type": "code",
   "execution_count": 15,
   "id": "4658ec12-661f-4e6c-993c-535203ddd0d2",
   "metadata": {},
   "outputs": [
    {
     "name": "stdin",
     "output_type": "stream",
     "text": [
      "Enter a number to check: 22\n"
     ]
    },
    {
     "name": "stdout",
     "output_type": "stream",
     "text": [
      "Number is not divisible by 5\n"
     ]
    }
   ],
   "source": [
    "num=int(input(\"Enter a number to check:\"))\n",
    "if(num%5==0):\n",
    "    print(\"Number is divisible by 5\")\n",
    "else:\n",
    "    print(\"Number is not divisible by 5\")"
   ]
  },
  {
   "cell_type": "code",
   "execution_count": null,
   "id": "094f8000-abef-4b81-b90f-8e9a360b2374",
   "metadata": {},
   "outputs": [],
   "source": []
  }
 ],
 "metadata": {
  "kernelspec": {
   "display_name": "Python [conda env:base] *",
   "language": "python",
   "name": "conda-base-py"
  },
  "language_info": {
   "codemirror_mode": {
    "name": "ipython",
    "version": 3
   },
   "file_extension": ".py",
   "mimetype": "text/x-python",
   "name": "python",
   "nbconvert_exporter": "python",
   "pygments_lexer": "ipython3",
   "version": "3.13.5"
  }
 },
 "nbformat": 4,
 "nbformat_minor": 5
}
