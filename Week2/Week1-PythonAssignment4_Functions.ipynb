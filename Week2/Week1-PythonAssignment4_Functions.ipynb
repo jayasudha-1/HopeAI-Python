{
 "cells": [
  {
   "cell_type": "markdown",
   "id": "66543cd9-729c-4aae-8166-5bb8e71da778",
   "metadata": {},
   "source": [
    "# Create a class and function, and list out the items in the list\n",
    "SubfieldsInAI.Subfields()\n",
    "\n",
    "Sub-fields in AI are:\n",
    "Machine Learning\n",
    "Neural Networks\n",
    "Vision\n",
    "Robotics\n",
    "Speech Processing\n",
    "Natural Language Processing"
   ]
  },
  {
   "cell_type": "code",
   "execution_count": 7,
   "id": "19d08c51-8a98-4daf-a083-dc71069c4556",
   "metadata": {},
   "outputs": [],
   "source": [
    "def Subfields(): \n",
    "    print(\"Sub-fields in AI are:\")\n",
    "    listItems=[\"Machine Learning\",\"Neural Networks\",\"Vision\",\"Robotics\",\"Speech Processing\",\"Natural Language Processing\"]\n",
    "    for lists in listItems:\n",
    "        print(lists)\n",
    "    "
   ]
  },
  {
   "cell_type": "code",
   "execution_count": 8,
   "id": "b720d6d8-4c9f-4b5f-b3b6-bd6e9ded43dc",
   "metadata": {},
   "outputs": [
    {
     "name": "stdout",
     "output_type": "stream",
     "text": [
      "Sub-fields in AI are:\n",
      "Machine Learning\n",
      "Neural Networks\n",
      "Vision\n",
      "Robotics\n",
      "Speech Processing\n",
      "Natural Language Processing\n"
     ]
    }
   ],
   "source": [
    "Subfields()"
   ]
  },
  {
   "cell_type": "markdown",
   "id": "69fa065d-9666-4b7c-802f-b91af53339c9",
   "metadata": {},
   "source": [
    "# Create a function that checks whether the given number is Odd or Even\n",
    "OddEven.OddEven()\n",
    "Enter a number: 52452\n",
    "52452 is Even number"
   ]
  },
  {
   "cell_type": "code",
   "execution_count": 9,
   "id": "7413b6ba-783b-4984-a5a0-f70b1090aadd",
   "metadata": {},
   "outputs": [],
   "source": [
    "def OddEven():\n",
    "    num=int(input(\"Enter a number:\"))\n",
    "    if(num%2==0):\n",
    "        print(num,\"is Even number\")\n",
    "    else:\n",
    "        print(num,\"is odd number\")"
   ]
  },
  {
   "cell_type": "code",
   "execution_count": 10,
   "id": "1fdc8b55-3a9b-48c4-8d3c-969e6a9c13a9",
   "metadata": {},
   "outputs": [
    {
     "name": "stdin",
     "output_type": "stream",
     "text": [
      "Enter a number: 52452\n"
     ]
    },
    {
     "name": "stdout",
     "output_type": "stream",
     "text": [
      "52452 is Even number\n"
     ]
    }
   ],
   "source": [
    "OddEven()"
   ]
  },
  {
   "cell_type": "markdown",
   "id": "11cf8edd-e058-4b79-91bc-595a66f56ac3",
   "metadata": {},
   "source": [
    "# Create a function that tells elegibility of marriage for male and female according to their age limit like 21 for male and 18 for female\n",
    "ElegiblityForMarriage.Elegible()\n",
    "Your Gender:Male\n",
    "Your Age:20\n",
    "NOT ELIGIBLE"
   ]
  },
  {
   "cell_type": "code",
   "execution_count": 11,
   "id": "6484c07a-cd95-443c-b72e-07cd5d8dca77",
   "metadata": {},
   "outputs": [],
   "source": [
    "def Elegible():\n",
    "    gender=input(\"Your Gender:\")\n",
    "    age=int(input(\"Your Age:\"))\n",
    "    if(gender==\"Male\"):\n",
    "        if(age>21):\n",
    "            print(\"Elgible\")\n",
    "        else:\n",
    "            print(\"Not Eligible\")\n",
    "    elif(gender==\"Female\"):\n",
    "        if(age>18):\n",
    "            print(\"Elgible\")\n",
    "        else:\n",
    "            print(\"Not Eligible\")\n",
    "            "
   ]
  },
  {
   "cell_type": "code",
   "execution_count": 12,
   "id": "c5760872-9725-4e14-a5cc-5d7f42ec602b",
   "metadata": {},
   "outputs": [
    {
     "name": "stdin",
     "output_type": "stream",
     "text": [
      "Your Gender: Male\n",
      "Your Age: 20\n"
     ]
    },
    {
     "name": "stdout",
     "output_type": "stream",
     "text": [
      "Not Eligible\n"
     ]
    }
   ],
   "source": [
    "Elegible()"
   ]
  },
  {
   "cell_type": "markdown",
   "id": "bfcd9b8c-e52f-4878-aac9-222507dc3b08",
   "metadata": {},
   "source": [
    "#calculate the percentage of your 10th mark\n",
    "FindPercent.percentage()\n",
    "Subject1= 98\n",
    "Subject2= 87\n",
    "Subject3= 95\n",
    "Subject4= 95\n",
    "Subject5= 93\n",
    "Total : 468\n",
    "Percentage : 93.60000000000001"
   ]
  },
  {
   "cell_type": "code",
   "execution_count": 13,
   "id": "f17f94a0-8108-4d6c-a592-5b1691b60406",
   "metadata": {},
   "outputs": [],
   "source": [
    "def percentage():\n",
    "    Subject1=int(input(\"Subject1=\"))\n",
    "    Subject2=int(input(\"Subject2=\"))\n",
    "    Subject3=int(input(\"Subject3=\"))\n",
    "    Subject4=int(input(\"Subject4=\"))\n",
    "    Subject5=int(input(\"Subject5=\"))\n",
    "    total=Subject1+Subject2+Subject3+Subject4+Subject5\n",
    "    print(\"Total :\",total)\n",
    "    percent=float((total)/500)*100\n",
    "    print(\"Percentage :\",percent)"
   ]
  },
  {
   "cell_type": "code",
   "execution_count": 15,
   "id": "613cb6a7-701b-49fe-9656-23580a9928b9",
   "metadata": {},
   "outputs": [
    {
     "name": "stdin",
     "output_type": "stream",
     "text": [
      "Subject1= 98\n",
      "Subject2= 87\n",
      "Subject3= 95\n",
      "Subject4= 95\n",
      "Subject5= 93\n"
     ]
    },
    {
     "name": "stdout",
     "output_type": "stream",
     "text": [
      "Total : 468\n",
      "Percentage : 93.60000000000001\n"
     ]
    }
   ],
   "source": [
    "percentage()"
   ]
  },
  {
   "cell_type": "markdown",
   "id": "25f33c04-f568-442f-bd28-3054b95ca302",
   "metadata": {},
   "source": [
    "#print area and perimeter of triangle using class and functions\n",
    "Height:32\n",
    "Breadth:34\n",
    "Area formula: (Height*Breadth)/2\n",
    "Area of Triangle: 544.0\n",
    "Height1:2\n",
    "Height2:4\n",
    "Breadth:4\n",
    "Perimeter formula: Height1+Height2+Breadth\n",
    "Perimeter of Triangle: 10"
   ]
  },
  {
   "cell_type": "code",
   "execution_count": 5,
   "id": "acf2df08-6eca-46c9-b9df-828e9aa92851",
   "metadata": {},
   "outputs": [],
   "source": [
    "def triangle():\n",
    "    height=int(input(\"Height:\"))\n",
    "    breadth=int(input(\"Breadth:\"))\n",
    "    print(\"Area formula: (Height*Breadth)/2\")\n",
    "    calcTriangle=(height*breadth)/2\n",
    "    print(\"Area of Triangle:\",calcTriangle)\n",
    "    Height1=int(input(\"Height1:\"))\n",
    "    Height2=int(input(\"Height2:\"))\n",
    "    Breadth=int(input(\"Breadth:\"))\n",
    "    calcPerimeter=Height1+Height2+Breadth\n",
    "    print(\"Perimeter formula: Height1+Height2+Breadth\")\n",
    "    print(\"Perimeter of Triangle:\",calcPerimeter)"
   ]
  },
  {
   "cell_type": "code",
   "execution_count": 6,
   "id": "049b3f56-ff52-4a4a-b11b-ba23525855fd",
   "metadata": {},
   "outputs": [
    {
     "name": "stdin",
     "output_type": "stream",
     "text": [
      "Height: 32\n",
      "Breadth: 34\n"
     ]
    },
    {
     "name": "stdout",
     "output_type": "stream",
     "text": [
      "Area formula: (Height*Breadth)/2\n",
      "Area of Triangle: 544.0\n"
     ]
    },
    {
     "name": "stdin",
     "output_type": "stream",
     "text": [
      "Height1: 2\n",
      "Height2: 4\n",
      "Breadth: 4\n"
     ]
    },
    {
     "name": "stdout",
     "output_type": "stream",
     "text": [
      "Perimeter formula: Height1+Height2+Breadth\n",
      "Perimeter of Triangle: 10\n"
     ]
    }
   ],
   "source": [
    "triangle()"
   ]
  },
  {
   "cell_type": "code",
   "execution_count": null,
   "id": "b30a0c93-d94e-494e-85e5-37e1639ce9af",
   "metadata": {},
   "outputs": [],
   "source": []
  }
 ],
 "metadata": {
  "kernelspec": {
   "display_name": "Python 3 (ipykernel)",
   "language": "python",
   "name": "python3"
  },
  "language_info": {
   "codemirror_mode": {
    "name": "ipython",
    "version": 3
   },
   "file_extension": ".py",
   "mimetype": "text/x-python",
   "name": "python",
   "nbconvert_exporter": "python",
   "pygments_lexer": "ipython3",
   "version": "3.13.5"
  }
 },
 "nbformat": 4,
 "nbformat_minor": 5
}
