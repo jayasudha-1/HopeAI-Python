{
 "cells": [
  {
   "cell_type": "code",
   "execution_count": 1,
   "id": "bad94e58-cf63-4737-bb82-6000c2e4771b",
   "metadata": {},
   "outputs": [
    {
     "name": "stdout",
     "output_type": "stream",
     "text": [
      "HOPE AI\n"
     ]
    }
   ],
   "source": [
    "print(\"HOPE AI\")"
   ]
  },
  {
   "cell_type": "code",
   "execution_count": 6,
   "id": "df2d7126-21ef-4a65-985a-87c3ce5b05b1",
   "metadata": {},
   "outputs": [
    {
     "name": "stdin",
     "output_type": "stream",
     "text": [
      "Enter your institute name?: HOPE AI\n"
     ]
    }
   ],
   "source": [
    "name=input(\"Enter your institute name?:\")"
   ]
  },
  {
   "cell_type": "markdown",
   "id": "ff24d22c-2e80-481a-865c-3fdf84bd9347",
   "metadata": {},
   "source": [
    "#Buy inputs\n",
    "Enter your name: Raj\n",
    "Enter your age: 15\n",
    "Enter your school name: Guru school\n",
    "Enter your drgree: B.E CSE"
   ]
  },
  {
   "cell_type": "code",
   "execution_count": 7,
   "id": "a3c11d2c-64b9-48bf-9114-d05f03d3ddd6",
   "metadata": {},
   "outputs": [
    {
     "name": "stdin",
     "output_type": "stream",
     "text": [
      "Enter your name: Raj\n",
      "Enter your age: 15\n",
      "Enter your school name: Guru school\n",
      "Enter your degree: B.E CSE\n"
     ]
    }
   ],
   "source": [
    "name=input(\"Enter your name:\")\n",
    "age=input(\"Enter your age:\")\n",
    "school=input(\"Enter your school name:\")\n",
    "degree=input(\"Enter your degree:\")\n"
   ]
  },
  {
   "cell_type": "markdown",
   "id": "6877636f-985e-4968-937c-138b65d79a59",
   "metadata": {},
   "source": [
    "#addition\n",
    "a= 43\n",
    "b= 34\n",
    "add = 77"
   ]
  },
  {
   "cell_type": "code",
   "execution_count": 11,
   "id": "c085b9df-74a9-42c2-8b0b-7b05c1e4ae0a",
   "metadata": {},
   "outputs": [
    {
     "name": "stdin",
     "output_type": "stream",
     "text": [
      "a= 43\n",
      "b= 34\n"
     ]
    },
    {
     "name": "stdout",
     "output_type": "stream",
     "text": [
      "add = 77\n"
     ]
    }
   ],
   "source": [
    "a=int(input(\"a=\"))\n",
    "b=int(input(\"b=\"))\n",
    "add=print(\"add =\", a+b)"
   ]
  },
  {
   "cell_type": "markdown",
   "id": "3cf20944-a795-4710-a1d5-3595696204f1",
   "metadata": {},
   "source": [
    "#subraction\n",
    "a= 43\n",
    "b= 34\n",
    "Sub = 9"
   ]
  },
  {
   "cell_type": "code",
   "execution_count": 12,
   "id": "27a9e8d2-c540-41cb-84e2-e0a6589da078",
   "metadata": {},
   "outputs": [
    {
     "name": "stdin",
     "output_type": "stream",
     "text": [
      "a= 43\n",
      "b= 34\n"
     ]
    },
    {
     "name": "stdout",
     "output_type": "stream",
     "text": [
      "Sub = 9\n"
     ]
    }
   ],
   "source": [
    "a=int(input(\"a=\"))\n",
    "b=int(input(\"b=\"))\n",
    "Sub=print(\"Sub =\", a-b)"
   ]
  },
  {
   "cell_type": "markdown",
   "id": "c0a29d7d-9691-4790-aa25-5f76d7351441",
   "metadata": {},
   "source": [
    "#Multiplication\n",
    "a= 63\n",
    "b= 97\n",
    "Mul = 6111"
   ]
  },
  {
   "cell_type": "code",
   "execution_count": 13,
   "id": "01e07619-933a-4186-b008-9a1e66c98a39",
   "metadata": {},
   "outputs": [
    {
     "name": "stdin",
     "output_type": "stream",
     "text": [
      "a= 63\n",
      "b= 97\n"
     ]
    },
    {
     "name": "stdout",
     "output_type": "stream",
     "text": [
      "Mul = 6111\n"
     ]
    }
   ],
   "source": [
    "a=int(input(\"a=\"))\n",
    "b=int(input(\"b=\"))\n",
    "Mul=print(\"Mul =\", a*b)"
   ]
  },
  {
   "cell_type": "markdown",
   "id": "5577d8ac-ebfc-4324-8780-c02de8f76dd3",
   "metadata": {},
   "source": [
    "#Division\n",
    "a= 76\n",
    "b= 31\n",
    "Float Div = 2.4516129032258065"
   ]
  },
  {
   "cell_type": "code",
   "execution_count": 15,
   "id": "90f32a1b-c3d7-4dce-ae7d-bec6639bf811",
   "metadata": {},
   "outputs": [
    {
     "name": "stdin",
     "output_type": "stream",
     "text": [
      "a= 76\n",
      "b= 31\n"
     ]
    },
    {
     "name": "stdout",
     "output_type": "stream",
     "text": [
      "Float Div = 2.4516129032258065\n"
     ]
    }
   ],
   "source": [
    "a=int(input(\"a=\"))\n",
    "b=int(input(\"b=\"))\n",
    "FloatDiv=print(\"Float Div =\", a/b)"
   ]
  },
  {
   "cell_type": "markdown",
   "id": "bfc249a1-df29-4dc0-96ee-ad76a60eec6d",
   "metadata": {},
   "source": [
    "#Floor Division\n",
    "a= 76\n",
    "b= 31\n",
    "Floor Div = 2"
   ]
  },
  {
   "cell_type": "code",
   "execution_count": 18,
   "id": "50fea1b6-703a-4d74-a4b0-2e2d0a489637",
   "metadata": {},
   "outputs": [
    {
     "name": "stdin",
     "output_type": "stream",
     "text": [
      "a= 76\n",
      "b= 31\n"
     ]
    },
    {
     "name": "stdout",
     "output_type": "stream",
     "text": [
      "Floor Div = 2\n"
     ]
    }
   ],
   "source": [
    "a=int(input(\"a=\"))\n",
    "b=int(input(\"b=\"))\n",
    "FloorDiv=print(\"Floor Div =\", a//b)"
   ]
  },
  {
   "cell_type": "markdown",
   "id": "97e8b560-7a19-4130-a101-099d0290f1c8",
   "metadata": {},
   "source": [
    "#Modulo\n",
    "a= 76\n",
    "b= 31\n",
    "Modulo = 14"
   ]
  },
  {
   "cell_type": "code",
   "execution_count": 19,
   "id": "4e7d9ffb-f9dc-418c-9db7-dec6c1081cf0",
   "metadata": {},
   "outputs": [
    {
     "name": "stdin",
     "output_type": "stream",
     "text": [
      "a= 76\n",
      "b= 31\n"
     ]
    },
    {
     "name": "stdout",
     "output_type": "stream",
     "text": [
      "Modulo = 14\n"
     ]
    }
   ],
   "source": [
    "a=int(input(\"a=\"))\n",
    "b=int(input(\"b=\"))\n",
    "Modulo=print(\"Modulo =\", a%b)"
   ]
  },
  {
   "cell_type": "markdown",
   "id": "c72010b4-314e-4006-9152-118549ac8801",
   "metadata": {},
   "source": [
    "#power\n",
    "a= 4\n",
    "b= 4\n",
    "Power = 256"
   ]
  },
  {
   "cell_type": "code",
   "execution_count": 20,
   "id": "1e250d97-0791-4a9c-90b2-2da04e472a8f",
   "metadata": {},
   "outputs": [
    {
     "name": "stdin",
     "output_type": "stream",
     "text": [
      "a= 4\n",
      "b= 4\n"
     ]
    },
    {
     "name": "stdout",
     "output_type": "stream",
     "text": [
      "Power = 256\n"
     ]
    }
   ],
   "source": [
    "a=int(input(\"a=\"))\n",
    "b=int(input(\"b=\"))\n",
    "Power=print(\"Power =\", a**b)"
   ]
  },
  {
   "cell_type": "code",
   "execution_count": null,
   "id": "daefacce-5f81-45d3-b699-54430861e78d",
   "metadata": {},
   "outputs": [],
   "source": []
  }
 ],
 "metadata": {
  "kernelspec": {
   "display_name": "Python [conda env:base] *",
   "language": "python",
   "name": "conda-base-py"
  },
  "language_info": {
   "codemirror_mode": {
    "name": "ipython",
    "version": 3
   },
   "file_extension": ".py",
   "mimetype": "text/x-python",
   "name": "python",
   "nbconvert_exporter": "python",
   "pygments_lexer": "ipython3",
   "version": "3.13.5"
  }
 },
 "nbformat": 4,
 "nbformat_minor": 5
}
