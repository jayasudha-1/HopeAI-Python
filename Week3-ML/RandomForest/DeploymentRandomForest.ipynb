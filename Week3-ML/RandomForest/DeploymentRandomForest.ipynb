{
 "cells": [
  {
   "cell_type": "code",
   "execution_count": 1,
   "id": "dd2c2943-8a43-4e48-8f7f-8f12209d57c9",
   "metadata": {},
   "outputs": [],
   "source": [
    "import pickle\n",
    "filename=\"Random_Forest_Regressor.sav\""
   ]
  },
  {
   "cell_type": "code",
   "execution_count": 2,
   "id": "8299942e-9184-4386-ad19-8606597d6dc4",
   "metadata": {},
   "outputs": [
    {
     "name": "stderr",
     "output_type": "stream",
     "text": [
      "C:\\Users\\Jayasudha Kalamegam\\AppData\\Roaming\\Python\\Python313\\site-packages\\sklearn\\utils\\validation.py:2749: UserWarning: X does not have valid feature names, but RandomForestRegressor was fitted with feature names\n",
      "  warnings.warn(\n"
     ]
    }
   ],
   "source": [
    "loaded_model=pickle.load(open(\"Random_Forest_Regressor.sav\",'rb'))\n",
    "result=loaded_model.predict([[146349.20,103497.80,452716,True,False]])"
   ]
  },
  {
   "cell_type": "code",
   "execution_count": 3,
   "id": "f25bedd7-e574-4310-a5d7-677d3b0216fe",
   "metadata": {},
   "outputs": [
    {
     "data": {
      "text/plain": [
       "array([181598.3212])"
      ]
     },
     "execution_count": 3,
     "metadata": {},
     "output_type": "execute_result"
    }
   ],
   "source": [
    "result"
   ]
  },
  {
   "cell_type": "code",
   "execution_count": null,
   "id": "73d0bf9b-5757-4141-8abb-3407e3be7cf9",
   "metadata": {},
   "outputs": [],
   "source": []
  }
 ],
 "metadata": {
  "kernelspec": {
   "display_name": "Python 3 (ipykernel)",
   "language": "python",
   "name": "python3"
  },
  "language_info": {
   "codemirror_mode": {
    "name": "ipython",
    "version": 3
   },
   "file_extension": ".py",
   "mimetype": "text/x-python",
   "name": "python",
   "nbconvert_exporter": "python",
   "pygments_lexer": "ipython3",
   "version": "3.13.5"
  }
 },
 "nbformat": 4,
 "nbformat_minor": 5
}
