{
 "cells": [
  {
   "cell_type": "code",
   "execution_count": 8,
   "id": "27998f59-46e4-4918-91f0-7f41383a2e43",
   "metadata": {},
   "outputs": [],
   "source": [
    "import pickle #import pickle library"
   ]
  },
  {
   "cell_type": "code",
   "execution_count": 10,
   "id": "3dce088e-c6de-42e9-a94a-8d5dfaffac2e",
   "metadata": {},
   "outputs": [
    {
     "name": "stderr",
     "output_type": "stream",
     "text": [
      "C:\\Users\\Jayasudha Kalamegam\\AppData\\Roaming\\Python\\Python313\\site-packages\\sklearn\\utils\\validation.py:2749: UserWarning: X does not have valid feature names, but LinearRegression was fitted with feature names\n",
      "  warnings.warn(\n"
     ]
    }
   ],
   "source": [
    "loaded_model=pickle.load(open(\"model_Multiple_linear.sav\",'rb'))\n",
    "result=loaded_model.predict([[186355,123500,456800,0,1]])"
   ]
  },
  {
   "cell_type": "code",
   "execution_count": 11,
   "id": "79536cb2-37ba-4867-b5b2-2b0ce14b47bb",
   "metadata": {},
   "outputs": [
    {
     "data": {
      "text/plain": [
       "array([[207982.59948061]])"
      ]
     },
     "execution_count": 11,
     "metadata": {},
     "output_type": "execute_result"
    }
   ],
   "source": [
    "result"
   ]
  },
  {
   "cell_type": "code",
   "execution_count": null,
   "id": "9792f455-d0d4-471b-acfa-aced91639fa1",
   "metadata": {},
   "outputs": [],
   "source": []
  }
 ],
 "metadata": {
  "kernelspec": {
   "display_name": "Python 3 (ipykernel)",
   "language": "python",
   "name": "python3"
  },
  "language_info": {
   "codemirror_mode": {
    "name": "ipython",
    "version": 3
   },
   "file_extension": ".py",
   "mimetype": "text/x-python",
   "name": "python",
   "nbconvert_exporter": "python",
   "pygments_lexer": "ipython3",
   "version": "3.13.5"
  }
 },
 "nbformat": 4,
 "nbformat_minor": 5
}
