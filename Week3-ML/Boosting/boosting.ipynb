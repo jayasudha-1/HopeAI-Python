{
 "cells": [
  {
   "cell_type": "code",
   "execution_count": 3,
   "id": "d2369577-8107-43b7-9c7f-7bc42137b23a",
   "metadata": {},
   "outputs": [],
   "source": [
    "import xgboost"
   ]
  },
  {
   "cell_type": "code",
   "execution_count": 5,
   "id": "48a87f0a-3da7-471d-b3f9-8917cd243cde",
   "metadata": {},
   "outputs": [
    {
     "name": "stdout",
     "output_type": "stream",
     "text": [
      "Defaulting to user installation because normal site-packages is not writeable\n",
      "Requirement already satisfied: xgboost in c:\\users\\jayasudha kalamegam\\appdata\\roaming\\python\\python313\\site-packages (3.1.1)\n",
      "Requirement already satisfied: numpy in c:\\users\\jayasudha kalamegam\\appdata\\roaming\\python\\python313\\site-packages (from xgboost) (2.3.3)\n",
      "Requirement already satisfied: scipy in c:\\users\\jayasudha kalamegam\\appdata\\roaming\\python\\python313\\site-packages (from xgboost) (1.16.2)\n",
      "Note: you may need to restart the kernel to use updated packages.\n"
     ]
    }
   ],
   "source": [
    "pip install xgboost"
   ]
  },
  {
   "cell_type": "code",
   "execution_count": null,
   "id": "07505220-53a8-4d3f-95a5-489e2d968fc5",
   "metadata": {},
   "outputs": [],
   "source": []
  }
 ],
 "metadata": {
  "kernelspec": {
   "display_name": "Python 3 (ipykernel)",
   "language": "python",
   "name": "python3"
  },
  "language_info": {
   "codemirror_mode": {
    "name": "ipython",
    "version": 3
   },
   "file_extension": ".py",
   "mimetype": "text/x-python",
   "name": "python",
   "nbconvert_exporter": "python",
   "pygments_lexer": "ipython3",
   "version": "3.13.5"
  }
 },
 "nbformat": 4,
 "nbformat_minor": 5
}
