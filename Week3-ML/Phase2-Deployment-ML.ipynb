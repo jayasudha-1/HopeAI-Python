{
 "cells": [
  {
   "cell_type": "code",
   "execution_count": 1,
   "id": "65e2c74a-91e7-4399-b256-d029c6d0ef26",
   "metadata": {},
   "outputs": [],
   "source": [
    "import pickle #import pickle library"
   ]
  },
  {
   "cell_type": "code",
   "execution_count": 4,
   "id": "69834143-3fe5-4b42-9916-1a22fb500f1b",
   "metadata": {},
   "outputs": [
    {
     "name": "stderr",
     "output_type": "stream",
     "text": [
      "C:\\Users\\Jayasudha Kalamegam\\AppData\\Roaming\\Python\\Python313\\site-packages\\sklearn\\utils\\validation.py:2749: UserWarning: X does not have valid feature names, but LinearRegression was fitted with feature names\n",
      "  warnings.warn(\n"
     ]
    }
   ],
   "source": [
    "#just use the loaded model alone \n",
    "loaded_model=pickle.load(open(\"final_model_linear.sav\",'rb'))\n",
    "result=loaded_model.predict([[0]]) #0 means bias value"
   ]
  },
  {
   "cell_type": "code",
   "execution_count": 5,
   "id": "352bf7a9-48fd-4156-a78b-1d7e60f0f924",
   "metadata": {},
   "outputs": [
    {
     "data": {
      "text/plain": [
       "array([[26777.3913412]])"
      ]
     },
     "execution_count": 5,
     "metadata": {},
     "output_type": "execute_result"
    }
   ],
   "source": [
    "result"
   ]
  },
  {
   "cell_type": "code",
   "execution_count": 8,
   "id": "156985dd-7a7b-43a0-8184-e41e90edc779",
   "metadata": {},
   "outputs": [
    {
     "name": "stderr",
     "output_type": "stream",
     "text": [
      "C:\\Users\\Jayasudha Kalamegam\\AppData\\Roaming\\Python\\Python313\\site-packages\\sklearn\\utils\\validation.py:2749: UserWarning: X does not have valid feature names, but LinearRegression was fitted with feature names\n",
      "  warnings.warn(\n"
     ]
    }
   ],
   "source": [
    "loaded_model=pickle.load(open(\"final_model_linear.sav\",'rb'))\n",
    "result1=loaded_model.predict([[2.3]]) #other than 0, if 2.3years exp"
   ]
  },
  {
   "cell_type": "code",
   "execution_count": 9,
   "id": "bb9ec6a6-c33b-4852-a5d1-585eadc2f3c5",
   "metadata": {},
   "outputs": [
    {
     "data": {
      "text/plain": [
       "array([[48305.99229944]])"
      ]
     },
     "execution_count": 9,
     "metadata": {},
     "output_type": "execute_result"
    }
   ],
   "source": [
    "result1"
   ]
  },
  {
   "cell_type": "code",
   "execution_count": null,
   "id": "33a24e9a-feb8-40cd-af94-9b5332105a4f",
   "metadata": {},
   "outputs": [],
   "source": []
  }
 ],
 "metadata": {
  "kernelspec": {
   "display_name": "Python 3 (ipykernel)",
   "language": "python",
   "name": "python3"
  },
  "language_info": {
   "codemirror_mode": {
    "name": "ipython",
    "version": 3
   },
   "file_extension": ".py",
   "mimetype": "text/x-python",
   "name": "python",
   "nbconvert_exporter": "python",
   "pygments_lexer": "ipython3",
   "version": "3.13.5"
  }
 },
 "nbformat": 4,
 "nbformat_minor": 5
}
